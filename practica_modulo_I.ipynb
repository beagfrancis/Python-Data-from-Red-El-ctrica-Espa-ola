{
 "cells": [
  {
   "cell_type": "markdown",
   "id": "a6b31c1c",
   "metadata": {},
   "source": [
    "## Práctica Módulo I - Beatriz Gijón\n",
    "\n"
   ]
  },
  {
   "cell_type": "markdown",
   "id": "8cd0e10b",
   "metadata": {},
   "source": [
    "# Obtención de Datos"
   ]
  },
  {
   "cell_type": "markdown",
   "id": "3dfecc6c",
   "metadata": {},
   "source": [
    "Lo primero que escribimos en nuestro código son todas las bibliotecas y funciones especiales que vamos a necesitar para la resolución de la práctica.  \n",
    "\n",
    "Lurgo, empezamos por obtener los datos de pedidos utilizando el API Rest público de la empresa REE y usando la siguiente sentencia: \n",
    "\n",
    "GET /{lang}/datos/{category}/{widget}?[query]\n",
    "\n",
    "Donde lang corresponde al idioma, que definiremos el es; category será en nuestro caso \"mercados\", widget será \"precios-mercados-tiempo-real\" y los parámetros del query serán:\n",
    "\n",
    "start_date=2023-01-02T00:00 (seleccionamos la semana de enero que empieza el 2/01 y termina el 8/01)\n",
    "\n",
    "end_date=2023-01-08T23:59\n",
    "\n",
    "time_trunc=hour (el enunciado nos pide que sea en intervalos de una hora)\n",
    "\n",
    "geo_limit=peninsular\n",
    "\n",
    "geo_ids=8741 (que es el id de la zona peninsular dado por la web de REData API)\n",
    "\n",
    "\n",
    "Por lo tanto, el API_URL que vamos a definir es: https://www.apidatos.ree.es/es/datos/mercados/precios-mercados-tiempo-real?start_date=2023-01-02T00:00&end_date=2023-01-08T23:59&time_trunc=hour&geo_trunc=electric_system&geo_limit=peninsular&geo_ids=8741\n",
    "\n"
   ]
  },
  {
   "cell_type": "code",
   "execution_count": 38,
   "id": "f74f9805",
   "metadata": {},
   "outputs": [
    {
     "name": "stdout",
     "output_type": "stream",
     "text": [
      "Código de respuesta:  200\n"
     ]
    }
   ],
   "source": [
    "import requests\n",
    "import json\n",
    "import pandas as pd\n",
    "from pandas import json_normalize\n",
    "import matplotlib.pyplot as plt\n",
    "import numpy as np\n",
    "\n",
    "\n",
    "API_URL= \"https://apidatos.ree.es/es/datos/mercados/precios-mercados-tiempo-real?start_date=2023-01-02T00:00&end_date=2023-01-08T23:59&time_trunc=hour&geo_trunc=electric_system&geo_limit=peninsular&geo_ids=8741\"\n",
    "respuesta=requests.get(API_URL)\n",
    "print(\"Código de respuesta: \", respuesta.status_code)\n"
   ]
  },
  {
   "cell_type": "markdown",
   "id": "0425f380",
   "metadata": {},
   "source": [
    "Como obtenemos el código de respuesta 200, significa que la operación ha sido realizada correctamente. Así que mostramos la información obtenida \"en cruudo\" en formato json. \n"
   ]
  },
  {
   "cell_type": "code",
   "execution_count": 6,
   "id": "bf95e113",
   "metadata": {},
   "outputs": [
    {
     "name": "stdout",
     "output_type": "stream",
     "text": [
      "{'data': {'type': 'Precios mercado peninsular en tiempo real', 'id': 'mer13', 'attributes': {'title': 'Precios mercado peninsular en tiempo real', 'last-update': '2023-01-07T20:16:55.000+01:00', 'description': None}, 'meta': {'cache-control': {'cache': 'MISS'}}}, 'included': [{'type': 'PVPC (€/MWh)', 'id': '1001', 'groupId': None, 'attributes': {'title': 'PVPC (€/MWh)', 'description': None, 'color': '#ffcf09', 'type': None, 'magnitude': 'price', 'composite': False, 'last-update': '2023-01-07T20:16:55.000+01:00', 'values': [{'value': 123.5, 'percentage': 1, 'datetime': '2023-01-02T00:00:00.000+01:00'}, {'value': 104.45, 'percentage': 1, 'datetime': '2023-01-02T01:00:00.000+01:00'}, {'value': 107.63, 'percentage': 1, 'datetime': '2023-01-02T02:00:00.000+01:00'}, {'value': 112.15, 'percentage': 1, 'datetime': '2023-01-02T03:00:00.000+01:00'}, {'value': 112.29, 'percentage': 1, 'datetime': '2023-01-02T04:00:00.000+01:00'}, {'value': 135, 'percentage': 1, 'datetime': '2023-01-02T05:00:00.000+01:00'}, {'value': 157.13, 'percentage': 1, 'datetime': '2023-01-02T06:00:00.000+01:00'}, {'value': 161.61, 'percentage': 1, 'datetime': '2023-01-02T07:00:00.000+01:00'}, {'value': 205.91, 'percentage': 1, 'datetime': '2023-01-02T08:00:00.000+01:00'}, {'value': 205.16, 'percentage': 1, 'datetime': '2023-01-02T09:00:00.000+01:00'}, {'value': 244.11, 'percentage': 1, 'datetime': '2023-01-02T10:00:00.000+01:00'}, {'value': 242.74, 'percentage': 1, 'datetime': '2023-01-02T11:00:00.000+01:00'}, {'value': 244.22, 'percentage': 1, 'datetime': '2023-01-02T12:00:00.000+01:00'}, {'value': 246.38, 'percentage': 1, 'datetime': '2023-01-02T13:00:00.000+01:00'}, {'value': 201.9, 'percentage': 1, 'datetime': '2023-01-02T14:00:00.000+01:00'}, {'value': 198.37, 'percentage': 1, 'datetime': '2023-01-02T15:00:00.000+01:00'}, {'value': 207.34, 'percentage': 1, 'datetime': '2023-01-02T16:00:00.000+01:00'}, {'value': 238.03, 'percentage': 1, 'datetime': '2023-01-02T17:00:00.000+01:00'}, {'value': 302.19, 'percentage': 1, 'datetime': '2023-01-02T18:00:00.000+01:00'}, {'value': 289.55, 'percentage': 1, 'datetime': '2023-01-02T19:00:00.000+01:00'}, {'value': 274.1, 'percentage': 1, 'datetime': '2023-01-02T20:00:00.000+01:00'}, {'value': 261.42, 'percentage': 1, 'datetime': '2023-01-02T21:00:00.000+01:00'}, {'value': 208.24, 'percentage': 1, 'datetime': '2023-01-02T22:00:00.000+01:00'}, {'value': 196.32, 'percentage': 1, 'datetime': '2023-01-02T23:00:00.000+01:00'}, {'value': 187.3, 'percentage': 1, 'datetime': '2023-01-03T00:00:00.000+01:00'}, {'value': 178.79, 'percentage': 1, 'datetime': '2023-01-03T01:00:00.000+01:00'}, {'value': 179.6, 'percentage': 1, 'datetime': '2023-01-03T02:00:00.000+01:00'}, {'value': 177.63, 'percentage': 1, 'datetime': '2023-01-03T03:00:00.000+01:00'}, {'value': 175.74, 'percentage': 1, 'datetime': '2023-01-03T04:00:00.000+01:00'}, {'value': 177.2, 'percentage': 1, 'datetime': '2023-01-03T05:00:00.000+01:00'}, {'value': 198.9, 'percentage': 1, 'datetime': '2023-01-03T06:00:00.000+01:00'}, {'value': 213.77, 'percentage': 1, 'datetime': '2023-01-03T07:00:00.000+01:00'}, {'value': 252.17, 'percentage': 1, 'datetime': '2023-01-03T08:00:00.000+01:00'}, {'value': 253.32, 'percentage': 1, 'datetime': '2023-01-03T09:00:00.000+01:00'}, {'value': 278.03, 'percentage': 1, 'datetime': '2023-01-03T10:00:00.000+01:00'}, {'value': 266.95, 'percentage': 1, 'datetime': '2023-01-03T11:00:00.000+01:00'}, {'value': 251.14, 'percentage': 1, 'datetime': '2023-01-03T12:00:00.000+01:00'}, {'value': 246.7, 'percentage': 1, 'datetime': '2023-01-03T13:00:00.000+01:00'}, {'value': 196.27, 'percentage': 1, 'datetime': '2023-01-03T14:00:00.000+01:00'}, {'value': 190.7, 'percentage': 1, 'datetime': '2023-01-03T15:00:00.000+01:00'}, {'value': 210.11, 'percentage': 1, 'datetime': '2023-01-03T16:00:00.000+01:00'}, {'value': 237.68, 'percentage': 1, 'datetime': '2023-01-03T17:00:00.000+01:00'}, {'value': 298.14, 'percentage': 1, 'datetime': '2023-01-03T18:00:00.000+01:00'}, {'value': 287.77, 'percentage': 1, 'datetime': '2023-01-03T19:00:00.000+01:00'}, {'value': 276.71, 'percentage': 1, 'datetime': '2023-01-03T20:00:00.000+01:00'}, {'value': 274.49, 'percentage': 1, 'datetime': '2023-01-03T21:00:00.000+01:00'}, {'value': 209, 'percentage': 1, 'datetime': '2023-01-03T22:00:00.000+01:00'}, {'value': 191.7, 'percentage': 1, 'datetime': '2023-01-03T23:00:00.000+01:00'}, {'value': 182.6, 'percentage': 1, 'datetime': '2023-01-04T00:00:00.000+01:00'}, {'value': 161.81, 'percentage': 1, 'datetime': '2023-01-04T01:00:00.000+01:00'}, {'value': 154.17, 'percentage': 1, 'datetime': '2023-01-04T02:00:00.000+01:00'}, {'value': 147.81, 'percentage': 1, 'datetime': '2023-01-04T03:00:00.000+01:00'}, {'value': 142.74, 'percentage': 1, 'datetime': '2023-01-04T04:00:00.000+01:00'}, {'value': 149.93, 'percentage': 1, 'datetime': '2023-01-04T05:00:00.000+01:00'}, {'value': 168.09, 'percentage': 1, 'datetime': '2023-01-04T06:00:00.000+01:00'}, {'value': 157.93, 'percentage': 1, 'datetime': '2023-01-04T07:00:00.000+01:00'}, {'value': 213.25, 'percentage': 1, 'datetime': '2023-01-04T08:00:00.000+01:00'}, {'value': 205.25, 'percentage': 1, 'datetime': '2023-01-04T09:00:00.000+01:00'}, {'value': 239.74, 'percentage': 1, 'datetime': '2023-01-04T10:00:00.000+01:00'}, {'value': 211.22, 'percentage': 1, 'datetime': '2023-01-04T11:00:00.000+01:00'}, {'value': 221.63, 'percentage': 1, 'datetime': '2023-01-04T12:00:00.000+01:00'}, {'value': 222.67, 'percentage': 1, 'datetime': '2023-01-04T13:00:00.000+01:00'}, {'value': 176.59, 'percentage': 1, 'datetime': '2023-01-04T14:00:00.000+01:00'}, {'value': 175.72, 'percentage': 1, 'datetime': '2023-01-04T15:00:00.000+01:00'}, {'value': 182.43, 'percentage': 1, 'datetime': '2023-01-04T16:00:00.000+01:00'}, {'value': 207.48, 'percentage': 1, 'datetime': '2023-01-04T17:00:00.000+01:00'}, {'value': 300.19, 'percentage': 1, 'datetime': '2023-01-04T18:00:00.000+01:00'}, {'value': 290.87, 'percentage': 1, 'datetime': '2023-01-04T19:00:00.000+01:00'}, {'value': 278.02, 'percentage': 1, 'datetime': '2023-01-04T20:00:00.000+01:00'}, {'value': 264.62, 'percentage': 1, 'datetime': '2023-01-04T21:00:00.000+01:00'}, {'value': 203.72, 'percentage': 1, 'datetime': '2023-01-04T22:00:00.000+01:00'}, {'value': 181.23, 'percentage': 1, 'datetime': '2023-01-04T23:00:00.000+01:00'}, {'value': 147.83, 'percentage': 1, 'datetime': '2023-01-05T00:00:00.000+01:00'}, {'value': 134.53, 'percentage': 1, 'datetime': '2023-01-05T01:00:00.000+01:00'}, {'value': 125.31, 'percentage': 1, 'datetime': '2023-01-05T02:00:00.000+01:00'}, {'value': 120.36, 'percentage': 1, 'datetime': '2023-01-05T03:00:00.000+01:00'}, {'value': 118.39, 'percentage': 1, 'datetime': '2023-01-05T04:00:00.000+01:00'}, {'value': 123.99, 'percentage': 1, 'datetime': '2023-01-05T05:00:00.000+01:00'}, {'value': 151.45, 'percentage': 1, 'datetime': '2023-01-05T06:00:00.000+01:00'}, {'value': 159.47, 'percentage': 1, 'datetime': '2023-01-05T07:00:00.000+01:00'}, {'value': 214.61, 'percentage': 1, 'datetime': '2023-01-05T08:00:00.000+01:00'}, {'value': 199.08, 'percentage': 1, 'datetime': '2023-01-05T09:00:00.000+01:00'}, {'value': 221.46, 'percentage': 1, 'datetime': '2023-01-05T10:00:00.000+01:00'}, {'value': 231.71, 'percentage': 1, 'datetime': '2023-01-05T11:00:00.000+01:00'}, {'value': 216.3, 'percentage': 1, 'datetime': '2023-01-05T12:00:00.000+01:00'}, {'value': 210.55, 'percentage': 1, 'datetime': '2023-01-05T13:00:00.000+01:00'}, {'value': 161.03, 'percentage': 1, 'datetime': '2023-01-05T14:00:00.000+01:00'}, {'value': 159.01, 'percentage': 1, 'datetime': '2023-01-05T15:00:00.000+01:00'}, {'value': 164.28, 'percentage': 1, 'datetime': '2023-01-05T16:00:00.000+01:00'}, {'value': 195.82, 'percentage': 1, 'datetime': '2023-01-05T17:00:00.000+01:00'}, {'value': 296.42, 'percentage': 1, 'datetime': '2023-01-05T18:00:00.000+01:00'}, {'value': 314.57, 'percentage': 1, 'datetime': '2023-01-05T19:00:00.000+01:00'}, {'value': 298.02, 'percentage': 1, 'datetime': '2023-01-05T20:00:00.000+01:00'}, {'value': 284.26, 'percentage': 1, 'datetime': '2023-01-05T21:00:00.000+01:00'}, {'value': 217.77, 'percentage': 1, 'datetime': '2023-01-05T22:00:00.000+01:00'}, {'value': 199.3, 'percentage': 1, 'datetime': '2023-01-05T23:00:00.000+01:00'}, {'value': 159.69, 'percentage': 1, 'datetime': '2023-01-06T00:00:00.000+01:00'}, {'value': 155.71, 'percentage': 1, 'datetime': '2023-01-06T01:00:00.000+01:00'}, {'value': 154.41, 'percentage': 1, 'datetime': '2023-01-06T02:00:00.000+01:00'}, {'value': 139.37, 'percentage': 1, 'datetime': '2023-01-06T03:00:00.000+01:00'}, {'value': 134.02, 'percentage': 1, 'datetime': '2023-01-06T04:00:00.000+01:00'}, {'value': 140.02, 'percentage': 1, 'datetime': '2023-01-06T05:00:00.000+01:00'}, {'value': 154.05, 'percentage': 1, 'datetime': '2023-01-06T06:00:00.000+01:00'}, {'value': 163.15, 'percentage': 1, 'datetime': '2023-01-06T07:00:00.000+01:00'}, {'value': 180.5, 'percentage': 1, 'datetime': '2023-01-06T08:00:00.000+01:00'}, {'value': 174.9, 'percentage': 1, 'datetime': '2023-01-06T09:00:00.000+01:00'}, {'value': 166.47, 'percentage': 1, 'datetime': '2023-01-06T10:00:00.000+01:00'}, {'value': 152.3, 'percentage': 1, 'datetime': '2023-01-06T11:00:00.000+01:00'}, {'value': 144.54, 'percentage': 1, 'datetime': '2023-01-06T12:00:00.000+01:00'}, {'value': 132.08, 'percentage': 1, 'datetime': '2023-01-06T13:00:00.000+01:00'}, {'value': 119.6, 'percentage': 1, 'datetime': '2023-01-06T14:00:00.000+01:00'}, {'value': 108.74, 'percentage': 1, 'datetime': '2023-01-06T15:00:00.000+01:00'}, {'value': 123.79, 'percentage': 1, 'datetime': '2023-01-06T16:00:00.000+01:00'}, {'value': 166.41, 'percentage': 1, 'datetime': '2023-01-06T17:00:00.000+01:00'}, {'value': 173.49, 'percentage': 1, 'datetime': '2023-01-06T18:00:00.000+01:00'}, {'value': 186.17, 'percentage': 1, 'datetime': '2023-01-06T19:00:00.000+01:00'}, {'value': 186.11, 'percentage': 1, 'datetime': '2023-01-06T20:00:00.000+01:00'}, {'value': 178.45, 'percentage': 1, 'datetime': '2023-01-06T21:00:00.000+01:00'}, {'value': 139.37, 'percentage': 1, 'datetime': '2023-01-06T22:00:00.000+01:00'}, {'value': 129.35, 'percentage': 1, 'datetime': '2023-01-06T23:00:00.000+01:00'}, {'value': 98.99, 'percentage': 1, 'datetime': '2023-01-07T00:00:00.000+01:00'}, {'value': 86.97, 'percentage': 1, 'datetime': '2023-01-07T01:00:00.000+01:00'}, {'value': 74.28, 'percentage': 1, 'datetime': '2023-01-07T02:00:00.000+01:00'}, {'value': 77.66, 'percentage': 1, 'datetime': '2023-01-07T03:00:00.000+01:00'}, {'value': 73.14, 'percentage': 1, 'datetime': '2023-01-07T04:00:00.000+01:00'}, {'value': 67.68, 'percentage': 1, 'datetime': '2023-01-07T05:00:00.000+01:00'}, {'value': 65.21, 'percentage': 1, 'datetime': '2023-01-07T06:00:00.000+01:00'}, {'value': 61.98, 'percentage': 1, 'datetime': '2023-01-07T07:00:00.000+01:00'}, {'value': 64.98, 'percentage': 1, 'datetime': '2023-01-07T08:00:00.000+01:00'}, {'value': 62.02, 'percentage': 1, 'datetime': '2023-01-07T09:00:00.000+01:00'}, {'value': 50.66, 'percentage': 1, 'datetime': '2023-01-07T10:00:00.000+01:00'}, {'value': 43.25, 'percentage': 1, 'datetime': '2023-01-07T11:00:00.000+01:00'}, {'value': 38.76, 'percentage': 1, 'datetime': '2023-01-07T12:00:00.000+01:00'}, {'value': 35.87, 'percentage': 1, 'datetime': '2023-01-07T13:00:00.000+01:00'}, {'value': 32.89, 'percentage': 1, 'datetime': '2023-01-07T14:00:00.000+01:00'}, {'value': 32.63, 'percentage': 1, 'datetime': '2023-01-07T15:00:00.000+01:00'}, {'value': 40.94, 'percentage': 1, 'datetime': '2023-01-07T16:00:00.000+01:00'}, {'value': 57.12, 'percentage': 1, 'datetime': '2023-01-07T17:00:00.000+01:00'}, {'value': 71.48, 'percentage': 1, 'datetime': '2023-01-07T18:00:00.000+01:00'}, {'value': 74.07, 'percentage': 1, 'datetime': '2023-01-07T19:00:00.000+01:00'}, {'value': 81.97, 'percentage': 1, 'datetime': '2023-01-07T20:00:00.000+01:00'}, {'value': 74.42, 'percentage': 1, 'datetime': '2023-01-07T21:00:00.000+01:00'}, {'value': 59.4, 'percentage': 1, 'datetime': '2023-01-07T22:00:00.000+01:00'}, {'value': 53.63, 'percentage': 1, 'datetime': '2023-01-07T23:00:00.000+01:00'}, {'value': 45.77, 'percentage': 1, 'datetime': '2023-01-08T00:00:00.000+01:00'}, {'value': 46.04, 'percentage': 1, 'datetime': '2023-01-08T01:00:00.000+01:00'}, {'value': 46.94, 'percentage': 1, 'datetime': '2023-01-08T02:00:00.000+01:00'}, {'value': 47.18, 'percentage': 1, 'datetime': '2023-01-08T03:00:00.000+01:00'}, {'value': 47.56, 'percentage': 1, 'datetime': '2023-01-08T04:00:00.000+01:00'}, {'value': 47.77, 'percentage': 1, 'datetime': '2023-01-08T05:00:00.000+01:00'}, {'value': 46.82, 'percentage': 1, 'datetime': '2023-01-08T06:00:00.000+01:00'}, {'value': 45.2, 'percentage': 1, 'datetime': '2023-01-08T07:00:00.000+01:00'}, {'value': 46.46, 'percentage': 1, 'datetime': '2023-01-08T08:00:00.000+01:00'}, {'value': 44.02, 'percentage': 1, 'datetime': '2023-01-08T09:00:00.000+01:00'}, {'value': 39.31, 'percentage': 1, 'datetime': '2023-01-08T10:00:00.000+01:00'}, {'value': 37.89, 'percentage': 1, 'datetime': '2023-01-08T11:00:00.000+01:00'}, {'value': 34.61, 'percentage': 1, 'datetime': '2023-01-08T12:00:00.000+01:00'}, {'value': 34.08, 'percentage': 1, 'datetime': '2023-01-08T13:00:00.000+01:00'}, {'value': 33.32, 'percentage': 1, 'datetime': '2023-01-08T14:00:00.000+01:00'}, {'value': 33.28, 'percentage': 1, 'datetime': '2023-01-08T15:00:00.000+01:00'}, {'value': 35.35, 'percentage': 1, 'datetime': '2023-01-08T16:00:00.000+01:00'}, {'value': 36.17, 'percentage': 1, 'datetime': '2023-01-08T17:00:00.000+01:00'}, {'value': 44.67, 'percentage': 1, 'datetime': '2023-01-08T18:00:00.000+01:00'}, {'value': 49.31, 'percentage': 1, 'datetime': '2023-01-08T19:00:00.000+01:00'}, {'value': 67.5, 'percentage': 1, 'datetime': '2023-01-08T20:00:00.000+01:00'}, {'value': 67.66, 'percentage': 1, 'datetime': '2023-01-08T21:00:00.000+01:00'}, {'value': 46.42, 'percentage': 1, 'datetime': '2023-01-08T22:00:00.000+01:00'}, {'value': 40.95, 'percentage': 1, 'datetime': '2023-01-08T23:00:00.000+01:00'}]}}]}\n"
     ]
    }
   ],
   "source": [
    "print(respuesta.json())"
   ]
  },
  {
   "cell_type": "markdown",
   "id": "9961f59a",
   "metadata": {},
   "source": [
    "Ahora, vamos a exportar estos ítems del json a una DATA FRAME de la biblioteca de Pandas con la función json_normalize. Como la información que queremos está en el campo \"included\", lo añadimos a nuestro comando. "
   ]
  },
  {
   "cell_type": "code",
   "execution_count": 17,
   "id": "3db933c2",
   "metadata": {},
   "outputs": [
    {
     "data": {
      "text/html": [
       "<div>\n",
       "<style scoped>\n",
       "    .dataframe tbody tr th:only-of-type {\n",
       "        vertical-align: middle;\n",
       "    }\n",
       "\n",
       "    .dataframe tbody tr th {\n",
       "        vertical-align: top;\n",
       "    }\n",
       "\n",
       "    .dataframe thead th {\n",
       "        text-align: right;\n",
       "    }\n",
       "</style>\n",
       "<table border=\"1\" class=\"dataframe\">\n",
       "  <thead>\n",
       "    <tr style=\"text-align: right;\">\n",
       "      <th></th>\n",
       "      <th>type</th>\n",
       "      <th>id</th>\n",
       "      <th>groupId</th>\n",
       "      <th>attributes.title</th>\n",
       "      <th>attributes.description</th>\n",
       "      <th>attributes.color</th>\n",
       "      <th>attributes.type</th>\n",
       "      <th>attributes.magnitude</th>\n",
       "      <th>attributes.composite</th>\n",
       "      <th>attributes.last-update</th>\n",
       "      <th>attributes.values</th>\n",
       "    </tr>\n",
       "  </thead>\n",
       "  <tbody>\n",
       "    <tr>\n",
       "      <th>0</th>\n",
       "      <td>PVPC (€/MWh)</td>\n",
       "      <td>1001</td>\n",
       "      <td>None</td>\n",
       "      <td>PVPC (€/MWh)</td>\n",
       "      <td>None</td>\n",
       "      <td>#ffcf09</td>\n",
       "      <td>None</td>\n",
       "      <td>price</td>\n",
       "      <td>False</td>\n",
       "      <td>2023-01-07T20:16:55.000+01:00</td>\n",
       "      <td>[{'value': 123.5, 'percentage': 1, 'datetime':...</td>\n",
       "    </tr>\n",
       "  </tbody>\n",
       "</table>\n",
       "</div>"
      ],
      "text/plain": [
       "           type    id groupId attributes.title attributes.description  \\\n",
       "0  PVPC (€/MWh)  1001    None     PVPC (€/MWh)                   None   \n",
       "\n",
       "  attributes.color attributes.type attributes.magnitude  attributes.composite  \\\n",
       "0          #ffcf09            None                price                 False   \n",
       "\n",
       "          attributes.last-update  \\\n",
       "0  2023-01-07T20:16:55.000+01:00   \n",
       "\n",
       "                                   attributes.values  \n",
       "0  [{'value': 123.5, 'percentage': 1, 'datetime':...  "
      ]
     },
     "execution_count": 17,
     "metadata": {},
     "output_type": "execute_result"
    }
   ],
   "source": [
    "resp=respuesta.json()\n",
    "df =json_normalize(resp['included'])\n",
    "df"
   ]
  },
  {
   "cell_type": "markdown",
   "id": "806dffa5",
   "metadata": {},
   "source": [
    "El enunciado nos pide que guardemos los campos 'value', 'percentage' y 'datetime'. Como podemos observar en la tabla obtenida, estos campos están en la columna de \"attributes.values\", así que creamos un nuevo dataframe desanidadando dicha columna. "
   ]
  },
  {
   "cell_type": "code",
   "execution_count": 18,
   "id": "f004b6d6",
   "metadata": {},
   "outputs": [
    {
     "data": {
      "text/html": [
       "<div>\n",
       "<style scoped>\n",
       "    .dataframe tbody tr th:only-of-type {\n",
       "        vertical-align: middle;\n",
       "    }\n",
       "\n",
       "    .dataframe tbody tr th {\n",
       "        vertical-align: top;\n",
       "    }\n",
       "\n",
       "    .dataframe thead th {\n",
       "        text-align: right;\n",
       "    }\n",
       "</style>\n",
       "<table border=\"1\" class=\"dataframe\">\n",
       "  <thead>\n",
       "    <tr style=\"text-align: right;\">\n",
       "      <th></th>\n",
       "      <th>0</th>\n",
       "      <th>1</th>\n",
       "      <th>2</th>\n",
       "      <th>3</th>\n",
       "      <th>4</th>\n",
       "      <th>5</th>\n",
       "      <th>6</th>\n",
       "      <th>7</th>\n",
       "      <th>8</th>\n",
       "      <th>9</th>\n",
       "      <th>...</th>\n",
       "      <th>158</th>\n",
       "      <th>159</th>\n",
       "      <th>160</th>\n",
       "      <th>161</th>\n",
       "      <th>162</th>\n",
       "      <th>163</th>\n",
       "      <th>164</th>\n",
       "      <th>165</th>\n",
       "      <th>166</th>\n",
       "      <th>167</th>\n",
       "    </tr>\n",
       "  </thead>\n",
       "  <tbody>\n",
       "    <tr>\n",
       "      <th>0</th>\n",
       "      <td>{'value': 123.5, 'percentage': 1, 'datetime': ...</td>\n",
       "      <td>{'value': 104.45, 'percentage': 1, 'datetime':...</td>\n",
       "      <td>{'value': 107.63, 'percentage': 1, 'datetime':...</td>\n",
       "      <td>{'value': 112.15, 'percentage': 1, 'datetime':...</td>\n",
       "      <td>{'value': 112.29, 'percentage': 1, 'datetime':...</td>\n",
       "      <td>{'value': 135, 'percentage': 1, 'datetime': '2...</td>\n",
       "      <td>{'value': 157.13, 'percentage': 1, 'datetime':...</td>\n",
       "      <td>{'value': 161.61, 'percentage': 1, 'datetime':...</td>\n",
       "      <td>{'value': 205.91, 'percentage': 1, 'datetime':...</td>\n",
       "      <td>{'value': 205.16, 'percentage': 1, 'datetime':...</td>\n",
       "      <td>...</td>\n",
       "      <td>{'value': 33.32, 'percentage': 1, 'datetime': ...</td>\n",
       "      <td>{'value': 33.28, 'percentage': 1, 'datetime': ...</td>\n",
       "      <td>{'value': 35.35, 'percentage': 1, 'datetime': ...</td>\n",
       "      <td>{'value': 36.17, 'percentage': 1, 'datetime': ...</td>\n",
       "      <td>{'value': 44.67, 'percentage': 1, 'datetime': ...</td>\n",
       "      <td>{'value': 49.31, 'percentage': 1, 'datetime': ...</td>\n",
       "      <td>{'value': 67.5, 'percentage': 1, 'datetime': '...</td>\n",
       "      <td>{'value': 67.66, 'percentage': 1, 'datetime': ...</td>\n",
       "      <td>{'value': 46.42, 'percentage': 1, 'datetime': ...</td>\n",
       "      <td>{'value': 40.95, 'percentage': 1, 'datetime': ...</td>\n",
       "    </tr>\n",
       "  </tbody>\n",
       "</table>\n",
       "<p>1 rows × 168 columns</p>\n",
       "</div>"
      ],
      "text/plain": [
       "                                                 0    \\\n",
       "0  {'value': 123.5, 'percentage': 1, 'datetime': ...   \n",
       "\n",
       "                                                 1    \\\n",
       "0  {'value': 104.45, 'percentage': 1, 'datetime':...   \n",
       "\n",
       "                                                 2    \\\n",
       "0  {'value': 107.63, 'percentage': 1, 'datetime':...   \n",
       "\n",
       "                                                 3    \\\n",
       "0  {'value': 112.15, 'percentage': 1, 'datetime':...   \n",
       "\n",
       "                                                 4    \\\n",
       "0  {'value': 112.29, 'percentage': 1, 'datetime':...   \n",
       "\n",
       "                                                 5    \\\n",
       "0  {'value': 135, 'percentage': 1, 'datetime': '2...   \n",
       "\n",
       "                                                 6    \\\n",
       "0  {'value': 157.13, 'percentage': 1, 'datetime':...   \n",
       "\n",
       "                                                 7    \\\n",
       "0  {'value': 161.61, 'percentage': 1, 'datetime':...   \n",
       "\n",
       "                                                 8    \\\n",
       "0  {'value': 205.91, 'percentage': 1, 'datetime':...   \n",
       "\n",
       "                                                 9    ...  \\\n",
       "0  {'value': 205.16, 'percentage': 1, 'datetime':...  ...   \n",
       "\n",
       "                                                 158  \\\n",
       "0  {'value': 33.32, 'percentage': 1, 'datetime': ...   \n",
       "\n",
       "                                                 159  \\\n",
       "0  {'value': 33.28, 'percentage': 1, 'datetime': ...   \n",
       "\n",
       "                                                 160  \\\n",
       "0  {'value': 35.35, 'percentage': 1, 'datetime': ...   \n",
       "\n",
       "                                                 161  \\\n",
       "0  {'value': 36.17, 'percentage': 1, 'datetime': ...   \n",
       "\n",
       "                                                 162  \\\n",
       "0  {'value': 44.67, 'percentage': 1, 'datetime': ...   \n",
       "\n",
       "                                                 163  \\\n",
       "0  {'value': 49.31, 'percentage': 1, 'datetime': ...   \n",
       "\n",
       "                                                 164  \\\n",
       "0  {'value': 67.5, 'percentage': 1, 'datetime': '...   \n",
       "\n",
       "                                                 165  \\\n",
       "0  {'value': 67.66, 'percentage': 1, 'datetime': ...   \n",
       "\n",
       "                                                 166  \\\n",
       "0  {'value': 46.42, 'percentage': 1, 'datetime': ...   \n",
       "\n",
       "                                                 167  \n",
       "0  {'value': 40.95, 'percentage': 1, 'datetime': ...  \n",
       "\n",
       "[1 rows x 168 columns]"
      ]
     },
     "execution_count": 18,
     "metadata": {},
     "output_type": "execute_result"
    }
   ],
   "source": [
    "df2=pd.DataFrame.from_records(df['attributes.values'])\n",
    "df2"
   ]
  },
  {
   "cell_type": "markdown",
   "id": "d54f164e",
   "metadata": {},
   "source": [
    "Como continuamos teniendo la información anidada, la vamos a desanidar utilizando una concatenación de dataframes. Para ello creamos un dataframe vacío, dff, donde vamos a ir concatenando las columnas desanidadas del dataframe df2"
   ]
  },
  {
   "cell_type": "code",
   "execution_count": 33,
   "id": "955415bc",
   "metadata": {
    "scrolled": true
   },
   "outputs": [
    {
     "data": {
      "text/html": [
       "<div>\n",
       "<style scoped>\n",
       "    .dataframe tbody tr th:only-of-type {\n",
       "        vertical-align: middle;\n",
       "    }\n",
       "\n",
       "    .dataframe tbody tr th {\n",
       "        vertical-align: top;\n",
       "    }\n",
       "\n",
       "    .dataframe thead th {\n",
       "        text-align: right;\n",
       "    }\n",
       "</style>\n",
       "<table border=\"1\" class=\"dataframe\">\n",
       "  <thead>\n",
       "    <tr style=\"text-align: right;\">\n",
       "      <th></th>\n",
       "      <th>value</th>\n",
       "      <th>percentage</th>\n",
       "      <th>datetime</th>\n",
       "    </tr>\n",
       "  </thead>\n",
       "  <tbody>\n",
       "    <tr>\n",
       "      <th>0</th>\n",
       "      <td>123.50</td>\n",
       "      <td>1</td>\n",
       "      <td>2023-01-02T00:00:00.000+01:00</td>\n",
       "    </tr>\n",
       "    <tr>\n",
       "      <th>1</th>\n",
       "      <td>104.45</td>\n",
       "      <td>1</td>\n",
       "      <td>2023-01-02T01:00:00.000+01:00</td>\n",
       "    </tr>\n",
       "    <tr>\n",
       "      <th>2</th>\n",
       "      <td>107.63</td>\n",
       "      <td>1</td>\n",
       "      <td>2023-01-02T02:00:00.000+01:00</td>\n",
       "    </tr>\n",
       "    <tr>\n",
       "      <th>3</th>\n",
       "      <td>112.15</td>\n",
       "      <td>1</td>\n",
       "      <td>2023-01-02T03:00:00.000+01:00</td>\n",
       "    </tr>\n",
       "    <tr>\n",
       "      <th>4</th>\n",
       "      <td>112.29</td>\n",
       "      <td>1</td>\n",
       "      <td>2023-01-02T04:00:00.000+01:00</td>\n",
       "    </tr>\n",
       "    <tr>\n",
       "      <th>...</th>\n",
       "      <td>...</td>\n",
       "      <td>...</td>\n",
       "      <td>...</td>\n",
       "    </tr>\n",
       "    <tr>\n",
       "      <th>163</th>\n",
       "      <td>49.31</td>\n",
       "      <td>1</td>\n",
       "      <td>2023-01-08T19:00:00.000+01:00</td>\n",
       "    </tr>\n",
       "    <tr>\n",
       "      <th>164</th>\n",
       "      <td>67.50</td>\n",
       "      <td>1</td>\n",
       "      <td>2023-01-08T20:00:00.000+01:00</td>\n",
       "    </tr>\n",
       "    <tr>\n",
       "      <th>165</th>\n",
       "      <td>67.66</td>\n",
       "      <td>1</td>\n",
       "      <td>2023-01-08T21:00:00.000+01:00</td>\n",
       "    </tr>\n",
       "    <tr>\n",
       "      <th>166</th>\n",
       "      <td>46.42</td>\n",
       "      <td>1</td>\n",
       "      <td>2023-01-08T22:00:00.000+01:00</td>\n",
       "    </tr>\n",
       "    <tr>\n",
       "      <th>167</th>\n",
       "      <td>40.95</td>\n",
       "      <td>1</td>\n",
       "      <td>2023-01-08T23:00:00.000+01:00</td>\n",
       "    </tr>\n",
       "  </tbody>\n",
       "</table>\n",
       "<p>168 rows × 3 columns</p>\n",
       "</div>"
      ],
      "text/plain": [
       "      value  percentage                       datetime\n",
       "0    123.50           1  2023-01-02T00:00:00.000+01:00\n",
       "1    104.45           1  2023-01-02T01:00:00.000+01:00\n",
       "2    107.63           1  2023-01-02T02:00:00.000+01:00\n",
       "3    112.15           1  2023-01-02T03:00:00.000+01:00\n",
       "4    112.29           1  2023-01-02T04:00:00.000+01:00\n",
       "..      ...         ...                            ...\n",
       "163   49.31           1  2023-01-08T19:00:00.000+01:00\n",
       "164   67.50           1  2023-01-08T20:00:00.000+01:00\n",
       "165   67.66           1  2023-01-08T21:00:00.000+01:00\n",
       "166   46.42           1  2023-01-08T22:00:00.000+01:00\n",
       "167   40.95           1  2023-01-08T23:00:00.000+01:00\n",
       "\n",
       "[168 rows x 3 columns]"
      ]
     },
     "execution_count": 33,
     "metadata": {},
     "output_type": "execute_result"
    }
   ],
   "source": [
    "dff =pd.DataFrame()            \n",
    "for i in range(df2.shape[1]):  \n",
    "    dff=pd.concat([dff, pd.DataFrame.from_records(df2[i])], ignore_index=True)\n",
    "dff"
   ]
  },
  {
   "cell_type": "markdown",
   "id": "93f26292",
   "metadata": {},
   "source": [
    "Queremos eliminar la columna que contiene el porcentaje, así que utilizamos la función \"drop\". "
   ]
  },
  {
   "cell_type": "code",
   "execution_count": 34,
   "id": "294cc65e",
   "metadata": {},
   "outputs": [
    {
     "data": {
      "text/html": [
       "<div>\n",
       "<style scoped>\n",
       "    .dataframe tbody tr th:only-of-type {\n",
       "        vertical-align: middle;\n",
       "    }\n",
       "\n",
       "    .dataframe tbody tr th {\n",
       "        vertical-align: top;\n",
       "    }\n",
       "\n",
       "    .dataframe thead th {\n",
       "        text-align: right;\n",
       "    }\n",
       "</style>\n",
       "<table border=\"1\" class=\"dataframe\">\n",
       "  <thead>\n",
       "    <tr style=\"text-align: right;\">\n",
       "      <th></th>\n",
       "      <th>value</th>\n",
       "      <th>datetime</th>\n",
       "    </tr>\n",
       "  </thead>\n",
       "  <tbody>\n",
       "    <tr>\n",
       "      <th>0</th>\n",
       "      <td>123.50</td>\n",
       "      <td>2023-01-02T00:00:00.000+01:00</td>\n",
       "    </tr>\n",
       "    <tr>\n",
       "      <th>1</th>\n",
       "      <td>104.45</td>\n",
       "      <td>2023-01-02T01:00:00.000+01:00</td>\n",
       "    </tr>\n",
       "    <tr>\n",
       "      <th>2</th>\n",
       "      <td>107.63</td>\n",
       "      <td>2023-01-02T02:00:00.000+01:00</td>\n",
       "    </tr>\n",
       "    <tr>\n",
       "      <th>3</th>\n",
       "      <td>112.15</td>\n",
       "      <td>2023-01-02T03:00:00.000+01:00</td>\n",
       "    </tr>\n",
       "    <tr>\n",
       "      <th>4</th>\n",
       "      <td>112.29</td>\n",
       "      <td>2023-01-02T04:00:00.000+01:00</td>\n",
       "    </tr>\n",
       "    <tr>\n",
       "      <th>...</th>\n",
       "      <td>...</td>\n",
       "      <td>...</td>\n",
       "    </tr>\n",
       "    <tr>\n",
       "      <th>163</th>\n",
       "      <td>49.31</td>\n",
       "      <td>2023-01-08T19:00:00.000+01:00</td>\n",
       "    </tr>\n",
       "    <tr>\n",
       "      <th>164</th>\n",
       "      <td>67.50</td>\n",
       "      <td>2023-01-08T20:00:00.000+01:00</td>\n",
       "    </tr>\n",
       "    <tr>\n",
       "      <th>165</th>\n",
       "      <td>67.66</td>\n",
       "      <td>2023-01-08T21:00:00.000+01:00</td>\n",
       "    </tr>\n",
       "    <tr>\n",
       "      <th>166</th>\n",
       "      <td>46.42</td>\n",
       "      <td>2023-01-08T22:00:00.000+01:00</td>\n",
       "    </tr>\n",
       "    <tr>\n",
       "      <th>167</th>\n",
       "      <td>40.95</td>\n",
       "      <td>2023-01-08T23:00:00.000+01:00</td>\n",
       "    </tr>\n",
       "  </tbody>\n",
       "</table>\n",
       "<p>168 rows × 2 columns</p>\n",
       "</div>"
      ],
      "text/plain": [
       "      value                       datetime\n",
       "0    123.50  2023-01-02T00:00:00.000+01:00\n",
       "1    104.45  2023-01-02T01:00:00.000+01:00\n",
       "2    107.63  2023-01-02T02:00:00.000+01:00\n",
       "3    112.15  2023-01-02T03:00:00.000+01:00\n",
       "4    112.29  2023-01-02T04:00:00.000+01:00\n",
       "..      ...                            ...\n",
       "163   49.31  2023-01-08T19:00:00.000+01:00\n",
       "164   67.50  2023-01-08T20:00:00.000+01:00\n",
       "165   67.66  2023-01-08T21:00:00.000+01:00\n",
       "166   46.42  2023-01-08T22:00:00.000+01:00\n",
       "167   40.95  2023-01-08T23:00:00.000+01:00\n",
       "\n",
       "[168 rows x 2 columns]"
      ]
     },
     "execution_count": 34,
     "metadata": {},
     "output_type": "execute_result"
    }
   ],
   "source": [
    "dff = dff.drop(columns=['percentage'])   \n",
    "dff"
   ]
  },
  {
   "cell_type": "markdown",
   "id": "400544f1",
   "metadata": {},
   "source": [
    "Ahora queremos calcular la media, la varianza y la desviación típica del precio de venta al público de la energía. Lo primero que hacemos es verificar que los datos están en el tipo correcto para hacer estos cálculos.  "
   ]
  },
  {
   "cell_type": "code",
   "execution_count": 36,
   "id": "6810fec2",
   "metadata": {},
   "outputs": [
    {
     "name": "stdout",
     "output_type": "stream",
     "text": [
      "<class 'pandas.core.frame.DataFrame'>\n",
      "RangeIndex: 168 entries, 0 to 167\n",
      "Data columns (total 2 columns):\n",
      " #   Column    Non-Null Count  Dtype  \n",
      "---  ------    --------------  -----  \n",
      " 0   value     168 non-null    float64\n",
      " 1   datetime  168 non-null    object \n",
      "dtypes: float64(1), object(1)\n",
      "memory usage: 2.8+ KB\n"
     ]
    }
   ],
   "source": [
    "dff.info()"
   ]
  },
  {
   "cell_type": "markdown",
   "id": "abaf35c8",
   "metadata": {},
   "source": [
    "Como los datos están en formato float64, podemos directamente calcular la media, la varianza y la desviación típica. Utilizando el siguiente código, mostraremos en la pantalla dichos valores. "
   ]
  },
  {
   "cell_type": "code",
   "execution_count": 40,
   "id": "967345c9",
   "metadata": {},
   "outputs": [
    {
     "name": "stdout",
     "output_type": "stream",
     "text": [
      "Media PVPC = 154.17708333333326\n",
      "Varianza PVPC = 6166.43120521457\n",
      "Desviación típica PVPC = 78.52662736431871\n"
     ]
    }
   ],
   "source": [
    "print (\"Media PVPC = \" + str(dff['value'].mean()))  \n",
    "print (\"Varianza PVPC = \" + str(dff['value'].var()))    \n",
    "print (\"Desviación típica PVPC = \" + str(dff['value'].std()))   "
   ]
  },
  {
   "cell_type": "markdown",
   "id": "ac04150e",
   "metadata": {},
   "source": [
    "Finalmente, vamos a generar una gráfica de la evolución del precio de la energía frente a las horas de la semana de enero seleccionada. "
   ]
  },
  {
   "cell_type": "code",
   "execution_count": 39,
   "id": "7fce576e",
   "metadata": {},
   "outputs": [
    {
     "data": {
      "image/png": "[encoded data removed]",
      "text/plain": [
       "<Figure size 640x480 with 1 Axes>"
      ]
     },
     "metadata": {},
     "output_type": "display_data"
    }
   ],
   "source": [
    "dff.plot()      \n",
    "plt.show()  "
   ]
  }
 ],
 "metadata": {
  "kernelspec": {
   "display_name": "Python 3 (ipykernel)",
   "language": "python",
   "name": "python3"
  },
  "language_info": {
   "codemirror_mode": {
    "name": "ipython",
    "version": 3
   },
   "file_extension": ".py",
   "mimetype": "text/x-python",
   "name": "python",
   "nbconvert_exporter": "python",
   "pygments_lexer": "ipython3",
   "version": "3.9.13"
  }
 },
 "nbformat": 4,
 "nbformat_minor": 5
}
